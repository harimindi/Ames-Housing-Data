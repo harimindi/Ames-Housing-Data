{
 "cells": [
  {
   "cell_type": "code",
   "execution_count": 15,
   "metadata": {
    "collapsed": true
   },
   "outputs": [],
   "source": [
    "import pandas as pd\n",
    "import numpy as np\n",
    "import matplotlib.pyplot as plt\n",
    "%matplotlib inline\n",
    "from matplotlib import rcParams\n",
    "rcParams['figure.figsize'] = 12,10\n",
    "import seaborn as sb"
   ]
  },
  {
   "cell_type": "code",
   "execution_count": 16,
   "metadata": {},
   "outputs": [
    {
     "data": {
      "text/plain": [
       "(2919, 71)"
      ]
     },
     "execution_count": 16,
     "metadata": {},
     "output_type": "execute_result"
    }
   ],
   "source": [
    "df = pd.read_csv('F:/Data_Science/Datasets/Ames_cleaned.csv')\n",
    "df.shape"
   ]
  },
  {
   "cell_type": "code",
   "execution_count": 17,
   "metadata": {},
   "outputs": [
    {
     "name": "stdout",
     "output_type": "stream",
     "text": [
      "(1460, 71) (1459, 71)\n"
     ]
    }
   ],
   "source": [
    "train = df.loc[df['source'] == 'train']\n",
    "test = df.loc[df['source'] == 'test']\n",
    "print(train.shape, test.shape)"
   ]
  },
  {
   "cell_type": "code",
   "execution_count": 18,
   "metadata": {},
   "outputs": [
    {
     "name": "stdout",
     "output_type": "stream",
     "text": [
      "Total of numeric features:  30\n",
      "Total of categorical features:  41\n"
     ]
    }
   ],
   "source": [
    "num_feat = train.dtypes[train.dtypes != 'object'].index\n",
    "print('Total of numeric features: ', len(num_feat))\n",
    "cat_feat = train.dtypes[train.dtypes == 'object'].index\n",
    "print('Total of categorical features: ', len(cat_feat))"
   ]
  },
  {
   "cell_type": "code",
   "execution_count": 19,
   "metadata": {
    "collapsed": true
   },
   "outputs": [],
   "source": [
    "target = 'SalePrice'"
   ]
  },
  {
   "cell_type": "code",
   "execution_count": 5,
   "metadata": {},
   "outputs": [
    {
     "ename": "KeyError",
     "evalue": "\"['TotalFullBath'] not in index\"",
     "output_type": "error",
     "traceback": [
      "\u001b[1;31m---------------------------------------------------------------------------\u001b[0m",
      "\u001b[1;31mKeyError\u001b[0m                                  Traceback (most recent call last)",
      "\u001b[1;32m<ipython-input-5-1316b99a0581>\u001b[0m in \u001b[0;36m<module>\u001b[1;34m()\u001b[0m\n\u001b[0;32m      3\u001b[0m            \u001b[1;34m'TotRmsAbvGrd'\u001b[0m\u001b[1;33m,\u001b[0m\u001b[1;34m'YearBuilt'\u001b[0m\u001b[1;33m,\u001b[0m\u001b[1;34m'YearRemodAdd'\u001b[0m\u001b[1;33m,\u001b[0m\u001b[1;34m'MasVnrArea'\u001b[0m\u001b[1;33m,\u001b[0m\u001b[1;34m'Fireplaces'\u001b[0m\u001b[1;33m,\u001b[0m\u001b[1;34m'BsmtFinSF1'\u001b[0m\u001b[1;33m,\u001b[0m\u001b[1;34m'LotFrontage'\u001b[0m\u001b[1;33m,\u001b[0m\u001b[1;34m'WoodDeckSF'\u001b[0m\u001b[1;33m,\u001b[0m\u001b[1;33m\u001b[0m\u001b[0m\n\u001b[0;32m      4\u001b[0m            '2ndFlrSF','Porch']\n\u001b[1;32m----> 5\u001b[1;33m \u001b[0mcorr\u001b[0m \u001b[1;33m=\u001b[0m \u001b[0mdf\u001b[0m\u001b[1;33m[\u001b[0m\u001b[0mpred_num\u001b[0m\u001b[1;33m]\u001b[0m\u001b[1;33m.\u001b[0m\u001b[0mcorr\u001b[0m\u001b[1;33m(\u001b[0m\u001b[1;33m)\u001b[0m\u001b[1;33m\u001b[0m\u001b[0m\n\u001b[0m\u001b[0;32m      6\u001b[0m \u001b[0msb\u001b[0m\u001b[1;33m.\u001b[0m\u001b[0mheatmap\u001b[0m\u001b[1;33m(\u001b[0m\u001b[0mcorr\u001b[0m\u001b[1;33m,\u001b[0m \u001b[0mvmax\u001b[0m\u001b[1;33m=\u001b[0m\u001b[1;36m1\u001b[0m\u001b[1;33m,\u001b[0m \u001b[0msquare\u001b[0m\u001b[1;33m=\u001b[0m\u001b[1;32mTrue\u001b[0m\u001b[1;33m)\u001b[0m\u001b[1;33m\u001b[0m\u001b[0m\n",
      "\u001b[1;32mF:\\Programs\\Anaconda\\lib\\site-packages\\pandas\\core\\frame.py\u001b[0m in \u001b[0;36m__getitem__\u001b[1;34m(self, key)\u001b[0m\n\u001b[0;32m   2054\u001b[0m         \u001b[1;32mif\u001b[0m \u001b[0misinstance\u001b[0m\u001b[1;33m(\u001b[0m\u001b[0mkey\u001b[0m\u001b[1;33m,\u001b[0m \u001b[1;33m(\u001b[0m\u001b[0mSeries\u001b[0m\u001b[1;33m,\u001b[0m \u001b[0mnp\u001b[0m\u001b[1;33m.\u001b[0m\u001b[0mndarray\u001b[0m\u001b[1;33m,\u001b[0m \u001b[0mIndex\u001b[0m\u001b[1;33m,\u001b[0m \u001b[0mlist\u001b[0m\u001b[1;33m)\u001b[0m\u001b[1;33m)\u001b[0m\u001b[1;33m:\u001b[0m\u001b[1;33m\u001b[0m\u001b[0m\n\u001b[0;32m   2055\u001b[0m             \u001b[1;31m# either boolean or fancy integer index\u001b[0m\u001b[1;33m\u001b[0m\u001b[1;33m\u001b[0m\u001b[0m\n\u001b[1;32m-> 2056\u001b[1;33m             \u001b[1;32mreturn\u001b[0m \u001b[0mself\u001b[0m\u001b[1;33m.\u001b[0m\u001b[0m_getitem_array\u001b[0m\u001b[1;33m(\u001b[0m\u001b[0mkey\u001b[0m\u001b[1;33m)\u001b[0m\u001b[1;33m\u001b[0m\u001b[0m\n\u001b[0m\u001b[0;32m   2057\u001b[0m         \u001b[1;32melif\u001b[0m \u001b[0misinstance\u001b[0m\u001b[1;33m(\u001b[0m\u001b[0mkey\u001b[0m\u001b[1;33m,\u001b[0m \u001b[0mDataFrame\u001b[0m\u001b[1;33m)\u001b[0m\u001b[1;33m:\u001b[0m\u001b[1;33m\u001b[0m\u001b[0m\n\u001b[0;32m   2058\u001b[0m             \u001b[1;32mreturn\u001b[0m \u001b[0mself\u001b[0m\u001b[1;33m.\u001b[0m\u001b[0m_getitem_frame\u001b[0m\u001b[1;33m(\u001b[0m\u001b[0mkey\u001b[0m\u001b[1;33m)\u001b[0m\u001b[1;33m\u001b[0m\u001b[0m\n",
      "\u001b[1;32mF:\\Programs\\Anaconda\\lib\\site-packages\\pandas\\core\\frame.py\u001b[0m in \u001b[0;36m_getitem_array\u001b[1;34m(self, key)\u001b[0m\n\u001b[0;32m   2098\u001b[0m             \u001b[1;32mreturn\u001b[0m \u001b[0mself\u001b[0m\u001b[1;33m.\u001b[0m\u001b[0mtake\u001b[0m\u001b[1;33m(\u001b[0m\u001b[0mindexer\u001b[0m\u001b[1;33m,\u001b[0m \u001b[0maxis\u001b[0m\u001b[1;33m=\u001b[0m\u001b[1;36m0\u001b[0m\u001b[1;33m,\u001b[0m \u001b[0mconvert\u001b[0m\u001b[1;33m=\u001b[0m\u001b[1;32mFalse\u001b[0m\u001b[1;33m)\u001b[0m\u001b[1;33m\u001b[0m\u001b[0m\n\u001b[0;32m   2099\u001b[0m         \u001b[1;32melse\u001b[0m\u001b[1;33m:\u001b[0m\u001b[1;33m\u001b[0m\u001b[0m\n\u001b[1;32m-> 2100\u001b[1;33m             \u001b[0mindexer\u001b[0m \u001b[1;33m=\u001b[0m \u001b[0mself\u001b[0m\u001b[1;33m.\u001b[0m\u001b[0mloc\u001b[0m\u001b[1;33m.\u001b[0m\u001b[0m_convert_to_indexer\u001b[0m\u001b[1;33m(\u001b[0m\u001b[0mkey\u001b[0m\u001b[1;33m,\u001b[0m \u001b[0maxis\u001b[0m\u001b[1;33m=\u001b[0m\u001b[1;36m1\u001b[0m\u001b[1;33m)\u001b[0m\u001b[1;33m\u001b[0m\u001b[0m\n\u001b[0m\u001b[0;32m   2101\u001b[0m             \u001b[1;32mreturn\u001b[0m \u001b[0mself\u001b[0m\u001b[1;33m.\u001b[0m\u001b[0mtake\u001b[0m\u001b[1;33m(\u001b[0m\u001b[0mindexer\u001b[0m\u001b[1;33m,\u001b[0m \u001b[0maxis\u001b[0m\u001b[1;33m=\u001b[0m\u001b[1;36m1\u001b[0m\u001b[1;33m,\u001b[0m \u001b[0mconvert\u001b[0m\u001b[1;33m=\u001b[0m\u001b[1;32mTrue\u001b[0m\u001b[1;33m)\u001b[0m\u001b[1;33m\u001b[0m\u001b[0m\n\u001b[0;32m   2102\u001b[0m \u001b[1;33m\u001b[0m\u001b[0m\n",
      "\u001b[1;32mF:\\Programs\\Anaconda\\lib\\site-packages\\pandas\\core\\indexing.py\u001b[0m in \u001b[0;36m_convert_to_indexer\u001b[1;34m(self, obj, axis, is_setter)\u001b[0m\n\u001b[0;32m   1229\u001b[0m                 \u001b[0mmask\u001b[0m \u001b[1;33m=\u001b[0m \u001b[0mcheck\u001b[0m \u001b[1;33m==\u001b[0m \u001b[1;33m-\u001b[0m\u001b[1;36m1\u001b[0m\u001b[1;33m\u001b[0m\u001b[0m\n\u001b[0;32m   1230\u001b[0m                 \u001b[1;32mif\u001b[0m \u001b[0mmask\u001b[0m\u001b[1;33m.\u001b[0m\u001b[0many\u001b[0m\u001b[1;33m(\u001b[0m\u001b[1;33m)\u001b[0m\u001b[1;33m:\u001b[0m\u001b[1;33m\u001b[0m\u001b[0m\n\u001b[1;32m-> 1231\u001b[1;33m                     \u001b[1;32mraise\u001b[0m \u001b[0mKeyError\u001b[0m\u001b[1;33m(\u001b[0m\u001b[1;34m'%s not in index'\u001b[0m \u001b[1;33m%\u001b[0m \u001b[0mobjarr\u001b[0m\u001b[1;33m[\u001b[0m\u001b[0mmask\u001b[0m\u001b[1;33m]\u001b[0m\u001b[1;33m)\u001b[0m\u001b[1;33m\u001b[0m\u001b[0m\n\u001b[0m\u001b[0;32m   1232\u001b[0m \u001b[1;33m\u001b[0m\u001b[0m\n\u001b[0;32m   1233\u001b[0m                 \u001b[1;32mreturn\u001b[0m \u001b[0m_values_from_object\u001b[0m\u001b[1;33m(\u001b[0m\u001b[0mindexer\u001b[0m\u001b[1;33m)\u001b[0m\u001b[1;33m\u001b[0m\u001b[0m\n",
      "\u001b[1;31mKeyError\u001b[0m: \"['TotalFullBath'] not in index\""
     ]
    }
   ],
   "source": [
    "#We will select numeric featues based on correlation > 30%\n",
    "pred_num = ['SalePrice','OverallQual','GrLivArea','GarageCars','GarageArea','TotalBsmtSF','1stFlrSF','TotalFullBath',\n",
    "           'TotRmsAbvGrd','YearBuilt','YearRemodAdd','MasVnrArea','Fireplaces','BsmtFinSF1','LotFrontage','WoodDeckSF',\n",
    "           '2ndFlrSF','Porch']\n",
    "corr = df[pred_num].corr()\n",
    "sb.heatmap(corr, vmax=1, square=True)"
   ]
  },
  {
   "cell_type": "code",
   "execution_count": 20,
   "metadata": {},
   "outputs": [
    {
     "data": {
      "text/plain": [
       "Index(['1stFlrSF', '2ndFlrSF', 'BedroomAbvGr', 'BldgType', 'BsmtCond',\n",
       "       'BsmtExposure', 'BsmtFinSF1', 'BsmtFinSF2', 'BsmtFinType1',\n",
       "       'BsmtFinType2', 'BsmtQual', 'BsmtUnfSF', 'CentralAir', 'Condition1',\n",
       "       'Condition2', 'Electrical', 'ExterCond', 'ExterQual', 'Exterior1st',\n",
       "       'Exterior2nd', 'Fence', 'FireplaceQu', 'Fireplaces', 'Foundation',\n",
       "       'FullBath', 'Functional', 'GarageArea', 'GarageCars', 'GarageCond',\n",
       "       'GarageFinish', 'GarageQual', 'GarageType', 'GarageYrBlt', 'GrLivArea',\n",
       "       'HalfBath', 'Heating', 'HeatingQC', 'HouseStyle', 'Id', 'KitchenAbvGr',\n",
       "       'KitchenQual', 'LandContour', 'LandSlope', 'LotArea', 'LotConfig',\n",
       "       'LotFrontage', 'LotShape', 'MSSubClass', 'MSZoning', 'MasVnrArea',\n",
       "       'MasVnrType', 'MoSold', 'Neighborhood', 'OverallCond', 'OverallQual',\n",
       "       'PavedDrive', 'RoofMatl', 'RoofStyle', 'SaleCondition', 'SalePrice',\n",
       "       'SaleType', 'Street', 'TotRmsAbvGrd', 'TotalBsmtSF', 'Utilities',\n",
       "       'WoodDeckSF', 'YearBuilt', 'YearRemodAdd', 'YrSold', 'source', 'Porch'],\n",
       "      dtype='object')"
      ]
     },
     "execution_count": 20,
     "metadata": {},
     "output_type": "execute_result"
    }
   ],
   "source": [
    "#Feature Engineering\n",
    "df.columns"
   ]
  },
  {
   "cell_type": "code",
   "execution_count": 22,
   "metadata": {
    "collapsed": true
   },
   "outputs": [],
   "source": [
    "df['TotalSF'] = df['1stFlrSF'] + df['2ndFlrSF'] + df['TotalBsmtSF']"
   ]
  },
  {
   "cell_type": "code",
   "execution_count": 23,
   "metadata": {},
   "outputs": [
    {
     "data": {
      "text/plain": [
       "(2919, 73)"
      ]
     },
     "execution_count": 23,
     "metadata": {},
     "output_type": "execute_result"
    }
   ],
   "source": [
    "#total rooms\n",
    "df['TotalRooms'] = df['BedroomAbvGr'] + df['TotRmsAbvGrd']\n",
    "df.shape"
   ]
  },
  {
   "cell_type": "code",
   "execution_count": 24,
   "metadata": {},
   "outputs": [
    {
     "data": {
      "text/plain": [
       "(2919, 65)"
      ]
     },
     "execution_count": 24,
     "metadata": {},
     "output_type": "execute_result"
    }
   ],
   "source": [
    "# Drop Feature engineered columns\n",
    "col_fe = ['1stFlrSF','2ndFlrSF','BsmtFinSF1','BsmtFinSF2','BsmtUnfSF','TotalBsmtSF','BedroomAbvGr','TotRmsAbvGrd']\n",
    "df.drop(col_fe, axis=1, inplace=True)\n",
    "df.shape"
   ]
  },
  {
   "cell_type": "code",
   "execution_count": 26,
   "metadata": {},
   "outputs": [
    {
     "name": "stdout",
     "output_type": "stream",
     "text": [
      "(1460, 65) (1459, 65)\n"
     ]
    }
   ],
   "source": [
    "train = df.loc[df['source'] == 'train']\n",
    "test = df.loc[df['source'] == 'test']\n",
    "print(train.shape, test.shape)"
   ]
  },
  {
   "cell_type": "code",
   "execution_count": 27,
   "metadata": {},
   "outputs": [
    {
     "name": "stdout",
     "output_type": "stream",
     "text": [
      "Total of numeric features:  24\n",
      "Total of categorical features:  41\n"
     ]
    }
   ],
   "source": [
    "num_feat = train.dtypes[train.dtypes != 'object'].index\n",
    "print('Total of numeric features: ', len(num_feat))\n",
    "cat_feat = train.dtypes[train.dtypes == 'object'].index\n",
    "print('Total of categorical features: ', len(cat_feat))"
   ]
  },
  {
   "cell_type": "code",
   "execution_count": 28,
   "metadata": {
    "collapsed": true
   },
   "outputs": [],
   "source": [
    "target = 'SalePrice'"
   ]
  },
  {
   "cell_type": "code",
   "execution_count": 29,
   "metadata": {},
   "outputs": [
    {
     "name": "stdout",
     "output_type": "stream",
     "text": [
      "SalePrice       1.000000\n",
      "OverallQual     0.790982\n",
      "TotalSF         0.782260\n",
      "GrLivArea       0.708624\n",
      "GarageCars      0.640409\n",
      "GarageArea      0.623431\n",
      "FullBath        0.582934\n",
      "YearBuilt       0.522897\n",
      "YearRemodAdd    0.507101\n",
      "MasVnrArea      0.473461\n",
      "Fireplaces      0.466929\n",
      "TotalRooms      0.444828\n",
      "LotFrontage     0.334820\n",
      "WoodDeckSF      0.324413\n",
      "Porch           0.296678\n",
      "LotArea         0.263843\n",
      "GarageYrBlt     0.261366\n",
      "HalfBath        0.250628\n",
      "KitchenAbvGr    0.135907\n",
      "MSSubClass      0.084284\n",
      "OverallCond     0.077856\n",
      "MoSold          0.046432\n",
      "YrSold          0.028923\n",
      "Id              0.021917\n",
      "Name: SalePrice, dtype: float64\n"
     ]
    }
   ],
   "source": [
    "corr = train.corr()\n",
    "corr_abs = corr.abs()\n",
    "\n",
    "nr_num_cols = len(num_feat)\n",
    "\n",
    "ser_corr = corr_abs.nlargest(nr_num_cols, target)[target]\n",
    "print(ser_corr)"
   ]
  },
  {
   "cell_type": "code",
   "execution_count": 34,
   "metadata": {},
   "outputs": [
    {
     "name": "stdout",
     "output_type": "stream",
     "text": [
      "Highest value Percentage of BldgType: 0.830764\n",
      "Highest value Percentage of BsmtCond: 0.892771\n",
      "Highest value Percentage of BsmtExposure: 0.652278\n",
      "Highest value Percentage of BsmtFinType1: 0.318602\n",
      "Highest value Percentage of BsmtFinType2: 0.881466\n",
      "Highest value Percentage of BsmtQual: 0.439534\n",
      "Highest value Percentage of CentralAir: 0.932854\n",
      "Highest value Percentage of Condition1: 0.860226\n",
      "Highest value Percentage of Condition2: 0.989723\n",
      "Highest value Percentage of Electrical: 0.915382\n",
      "Highest value Percentage of ExterCond: 0.869476\n",
      "Highest value Percentage of ExterQual: 0.615964\n",
      "Highest value Percentage of Exterior1st: 0.351490\n",
      "Highest value Percentage of Exterior2nd: 0.347722\n",
      "Highest value Percentage of Fence: 0.804385\n",
      "Highest value Percentage of FireplaceQu: 0.486468\n",
      "Highest value Percentage of Foundation: 0.448099\n",
      "Highest value Percentage of Functional: 0.931483\n",
      "Highest value Percentage of GarageCond: 0.909215\n",
      "Highest value Percentage of GarageFinish: 0.421377\n",
      "Highest value Percentage of GarageQual: 0.892086\n",
      "Highest value Percentage of GarageType: 0.590271\n",
      "Highest value Percentage of Heating: 0.984584\n",
      "Highest value Percentage of HeatingQC: 0.511477\n",
      "Highest value Percentage of HouseStyle: 0.503940\n",
      "Highest value Percentage of KitchenQual: 0.511477\n",
      "Highest value Percentage of LandContour: 0.898253\n",
      "Highest value Percentage of LandSlope: 0.951696\n",
      "Highest value Percentage of LotConfig: 0.730730\n",
      "Highest value Percentage of LotShape: 0.636862\n",
      "Highest value Percentage of MSZoning: 0.777321\n",
      "Highest value Percentage of MasVnrType: 0.606029\n",
      "Highest value Percentage of Neighborhood: 0.151764\n",
      "Highest value Percentage of PavedDrive: 0.904762\n",
      "Highest value Percentage of RoofMatl: 0.985269\n",
      "Highest value Percentage of RoofStyle: 0.791367\n",
      "Highest value Percentage of SaleCondition: 0.822885\n",
      "Highest value Percentage of SaleType: 0.865365\n",
      "Highest value Percentage of Street: 0.995889\n",
      "Highest value Percentage of Utilities: 0.999657\n",
      "Highest value Percentage of source: 0.500171\n"
     ]
    }
   ],
   "source": [
    "# Highest value Frequency percentage in categorical variables \n",
    "for i in list(cat_feat):\n",
    "    pct = df[i].value_counts()[0] / 2919\n",
    "    print('Highest value Percentage of {}: {:3f}'.format(i, pct))"
   ]
  },
  {
   "cell_type": "code",
   "execution_count": 32,
   "metadata": {},
   "outputs": [
    {
     "data": {
      "text/plain": [
       "(2919, 56)"
      ]
     },
     "execution_count": 32,
     "metadata": {},
     "output_type": "execute_result"
    }
   ],
   "source": [
    "#Drop columns based on corr < 30%\n",
    "col_drop = ['Porch','LotArea','GarageYrBlt','HalfBath','KitchenAbvGr','MSSubClass','OverallCond','MoSold','YrSold']\n",
    "df.drop(col_drop, axis=1, inplace=True)\n",
    "df.shape"
   ]
  },
  {
   "cell_type": "code",
   "execution_count": 66,
   "metadata": {},
   "outputs": [
    {
     "data": {
      "text/plain": [
       "(2919, 35)"
      ]
     },
     "execution_count": 66,
     "metadata": {},
     "output_type": "execute_result"
    }
   ],
   "source": [
    "# Drop columns which have frequency of value more than 80% of all values \n",
    "col_drop = ['BldgType','BsmtCond','BsmtFinType2','CentralAir','Condition1','Condition2','Electrical','ExterCond',\n",
    "           'Fence','Functional','GarageCond','GarageQual','Heating','LandContour','LandSlope','PavedDrive','RoofMatl',\n",
    "           'SaleCondition','SaleType','Street','Utilities']\n",
    "df.drop(col_drop, axis=1, inplace=True)\n",
    "df.shape"
   ]
  },
  {
   "cell_type": "code",
   "execution_count": 67,
   "metadata": {},
   "outputs": [
    {
     "data": {
      "text/plain": [
       "Index(['BsmtExposure', 'BsmtFinType1', 'BsmtQual', 'ExterQual', 'Exterior1st',\n",
       "       'Exterior2nd', 'FireplaceQu', 'Fireplaces', 'Foundation', 'FullBath',\n",
       "       'GarageArea', 'GarageCars', 'GarageFinish', 'GarageType', 'GrLivArea',\n",
       "       'HeatingQC', 'HouseStyle', 'Id', 'KitchenQual', 'LotConfig',\n",
       "       'LotFrontage', 'LotShape', 'MSZoning', 'MasVnrArea', 'MasVnrType',\n",
       "       'Neighborhood', 'OverallQual', 'RoofStyle', 'SalePrice', 'WoodDeckSF',\n",
       "       'YearBuilt', 'YearRemodAdd', 'source', 'TotalRooms', 'TotalSF'],\n",
       "      dtype='object')"
      ]
     },
     "execution_count": 67,
     "metadata": {},
     "output_type": "execute_result"
    }
   ],
   "source": [
    "df.columns"
   ]
  },
  {
   "cell_type": "code",
   "execution_count": 68,
   "metadata": {},
   "outputs": [
    {
     "data": {
      "text/plain": [
       "(2919, 333)"
      ]
     },
     "execution_count": 68,
     "metadata": {},
     "output_type": "execute_result"
    }
   ],
   "source": [
    "col_encod = ['BsmtExposure','BsmtFinType1','BsmtQual','ExterQual','Exterior1st','Exterior2nd','FireplaceQu',\n",
    "            'Foundation','GarageFinish','GarageType','HeatingQC','HouseStyle','KitchenQual','LotConfig','LotShape','MSZoning',\n",
    "            'MasVnrType','Neighborhood','RoofStyle','YearBuilt','YearRemodAdd']\n",
    "df = pd.get_dummies(df, columns=col_encod)\n",
    "df.shape"
   ]
  },
  {
   "cell_type": "code",
   "execution_count": 69,
   "metadata": {},
   "outputs": [
    {
     "name": "stdout",
     "output_type": "stream",
     "text": [
      "(1460, 333) (1459, 333)\n"
     ]
    }
   ],
   "source": [
    "#Dividing back into test and train dataset\n",
    "train = df.loc[df['source'] == 'train']\n",
    "test = df.loc[df['source'] == 'test']\n",
    "print(train.shape, test.shape)"
   ]
  },
  {
   "cell_type": "code",
   "execution_count": 70,
   "metadata": {},
   "outputs": [
    {
     "name": "stderr",
     "output_type": "stream",
     "text": [
      "F:\\Programs\\Anaconda\\lib\\site-packages\\ipykernel_launcher.py:1: SettingWithCopyWarning: \n",
      "A value is trying to be set on a copy of a slice from a DataFrame\n",
      "\n",
      "See the caveats in the documentation: http://pandas.pydata.org/pandas-docs/stable/indexing.html#indexing-view-versus-copy\n",
      "  \"\"\"Entry point for launching an IPython kernel.\n",
      "F:\\Programs\\Anaconda\\lib\\site-packages\\ipykernel_launcher.py:2: SettingWithCopyWarning: \n",
      "A value is trying to be set on a copy of a slice from a DataFrame\n",
      "\n",
      "See the caveats in the documentation: http://pandas.pydata.org/pandas-docs/stable/indexing.html#indexing-view-versus-copy\n",
      "  \n"
     ]
    }
   ],
   "source": [
    "test.drop(['source'], axis = 1, inplace=True)\n",
    "train.drop(['source'], axis = 1, inplace=True)"
   ]
  },
  {
   "cell_type": "code",
   "execution_count": 74,
   "metadata": {
    "collapsed": true
   },
   "outputs": [],
   "source": [
    "from sklearn import metrics\n",
    "from sklearn.model_selection import cross_val_score, train_test_split, KFold\n",
    "from sklearn.preprocessing import StandardScaler\n",
    "from sklearn.linear_model import LinearRegression, RidgeCV, LassoCV, ElasticNetCV\n",
    "from sklearn.metrics import mean_squared_error, make_scorer\n"
   ]
  },
  {
   "cell_type": "code",
   "execution_count": 18,
   "metadata": {},
   "outputs": [
    {
     "data": {
      "text/plain": [
       "((1022, 347), (438, 347), (1022,), (438,))"
      ]
     },
     "execution_count": 18,
     "metadata": {},
     "output_type": "execute_result"
    }
   ],
   "source": [
    "#split the data to train the model\n",
    "y = train.SalePrice\n",
    "X_train,X_test,y_train,y_test = train_test_split(train,y,test_size = 0.3,random_state= 0)\n",
    "\n",
    "X_train.shape,X_test.shape,y_train.shape,y_test.shape"
   ]
  },
  {
   "cell_type": "code",
   "execution_count": 75,
   "metadata": {
    "collapsed": true
   },
   "outputs": [],
   "source": [
    "predictors = [x for x in train.columns if x not in ['SalePrice', 'Id']]\n",
    "target = 'SalePrice'"
   ]
  },
  {
   "cell_type": "code",
   "execution_count": 36,
   "metadata": {
    "collapsed": true
   },
   "outputs": [],
   "source": [
    "n_folds = 5\n",
    "from sklearn.metrics import make_scorer\n",
    "from sklearn.model_selection import KFold\n",
    "scorer = make_scorer(mean_squared_error,greater_is_better = False)\n",
    "def rmse_CV_train(model):\n",
    "    kf = KFold(n_folds,shuffle=True,random_state=42)\n",
    "    rmse = np.sqrt(cross_val_score(model,X,y,scoring =\"mean_squared_error\",cv=kf, n_jobs=-1))\n",
    "    return (rmse)\n",
    "def rmse_CV_test(model):\n",
    "    kf = KFold(n_folds,shuffle=True,random_state=42)\n",
    "    rmse = np.sqrt(cross_val_score(model,X_test,y_test,scoring =\"mean_squared_error\",cv=kf, n_jobs=-1))\n",
    "    return (rmse)"
   ]
  },
  {
   "cell_type": "code",
   "execution_count": 27,
   "metadata": {},
   "outputs": [
    {
     "name": "stdout",
     "output_type": "stream",
     "text": [
      "rmse on train is 0.0001\n",
      "rmse on test is 0.0000\n"
     ]
    }
   ],
   "source": [
    "lr = LinearRegression()\n",
    "lr.fit(X,y)\n",
    "test_pre = lr.predict(X_test)\n",
    "train_pre = lr.predict(X_train)\n",
    "print('rmse on train is {:.4f}'.format(rmse_CV_train(lr).mean()))\n",
    "print('rmse on test is {:.4f}'.format(rmse_CV_test(lr).mean()))"
   ]
  },
  {
   "cell_type": "code",
   "execution_count": 28,
   "metadata": {},
   "outputs": [
    {
     "name": "stdout",
     "output_type": "stream",
     "text": [
      "best alpha 0.01\n",
      "Try again for more precision with alphas centered around 0.01\n",
      "Best alpha : 0.006\n",
      "Ridge RMSE on Training set :0.0000\n",
      "Ridge RMSE on Test set :0.0000\n"
     ]
    }
   ],
   "source": [
    "ridge = RidgeCV(alphas = [0.01, 0.03, 0.06, 0.1, 0.3, 0.6, 1, 3, 6, 10, 30, 60])\n",
    "ridge.fit(X_train,y_train)\n",
    "alpha = ridge.alpha_\n",
    "print('best alpha',alpha)\n",
    "\n",
    "print(\"Try again for more precision with alphas centered around \" + str(alpha))\n",
    "ridge = RidgeCV(alphas = [alpha * .6, alpha * .65, alpha * .7, alpha * .75, alpha * .8, alpha * .85, \n",
    "                          alpha * .9, alpha * .95, alpha, alpha * 1.05, alpha * 1.1, alpha * 1.15,\n",
    "                          alpha * 1.25, alpha * 1.3, alpha * 1.35, alpha * 1.4],cv = 5)\n",
    "ridge.fit(X_train, y_train)\n",
    "alpha = ridge.alpha_\n",
    "print(\"Best alpha :\", alpha)\n",
    "print(\"Ridge RMSE on Training set :{:.4f}\".format(rmse_CV_train(ridge).mean()))\n",
    "print(\"Ridge RMSE on Test set :{:.4f}\".format(rmse_CV_test(ridge).mean()))\n",
    "y_train_rdg = ridge.predict(X_train)\n",
    "y_test_rdg = ridge.predict(X_test)"
   ]
  },
  {
   "cell_type": "code",
   "execution_count": 76,
   "metadata": {},
   "outputs": [
    {
     "name": "stdout",
     "output_type": "stream",
     "text": [
      "\n",
      "Model Report\n",
      "RMSE : 2.659e+04\n",
      "CV Score : Mean - 4.537e+17 | Std - 4.293e+17 | Min - 6.866e+13 | Max - 1.253e+18\n",
      "Score:  0.887904054097\n"
     ]
    }
   ],
   "source": [
    "#Fit algorithm on data\n",
    "lin_reg = LinearRegression(normalize=True)\n",
    "lin_reg.fit(train[predictors], train[target])\n",
    "\n",
    "#predict training set\n",
    "train_pred = lin_reg.predict(train[predictors])\n",
    "\n",
    "\n",
    "kf = KFold(n_splits=5, shuffle=True, random_state=1)\n",
    "cv_results = cross_val_score(lin_reg, train[predictors], train[target], cv=kf, scoring='mean_squared_error', n_jobs=-1)\n",
    "cv_score = np.sqrt(np.abs(cv_results))\n",
    "\n",
    " #Print model report:\n",
    "print ('\\nModel Report')\n",
    "print (\"RMSE : %.4g\" % np.sqrt(metrics.mean_squared_error(train[target].values, train_pred)))\n",
    "print (\"CV Score : Mean - %.4g | Std - %.4g | Min - %.4g | Max - %.4g\" % (np.mean(cv_score),np.std(cv_score),np.min(cv_score),np.max(cv_score)))\n",
    "print(\"Score: \", lin_reg.score(train[predictors], train[target]))"
   ]
  },
  {
   "cell_type": "code",
   "execution_count": 41,
   "metadata": {},
   "outputs": [
    {
     "name": "stderr",
     "output_type": "stream",
     "text": [
      "C:\\Users\\hmindi\\AppData\\Local\\Continuum\\anaconda3\\lib\\site-packages\\ipykernel_launcher.py:1: SettingWithCopyWarning: \n",
      "A value is trying to be set on a copy of a slice from a DataFrame.\n",
      "Try using .loc[row_indexer,col_indexer] = value instead\n",
      "\n",
      "See the caveats in the documentation: http://pandas.pydata.org/pandas-docs/stable/indexing.html#indexing-view-versus-copy\n",
      "  \"\"\"Entry point for launching an IPython kernel.\n"
     ]
    }
   ],
   "source": [
    "test[target] = lin_reg.predict(test[predictors])\n",
    "test[['Id','SalePrice']].to_csv('C:/Hari Docs/Dataset/Ames_predict_1.csv', index = False)"
   ]
  },
  {
   "cell_type": "code",
   "execution_count": null,
   "metadata": {
    "collapsed": true
   },
   "outputs": [],
   "source": []
  }
 ],
 "metadata": {
  "kernelspec": {
   "display_name": "Python 3",
   "language": "python",
   "name": "python3"
  },
  "language_info": {
   "codemirror_mode": {
    "name": "ipython",
    "version": 3
   },
   "file_extension": ".py",
   "mimetype": "text/x-python",
   "name": "python",
   "nbconvert_exporter": "python",
   "pygments_lexer": "ipython3",
   "version": "3.6.1"
  }
 },
 "nbformat": 4,
 "nbformat_minor": 2
}
