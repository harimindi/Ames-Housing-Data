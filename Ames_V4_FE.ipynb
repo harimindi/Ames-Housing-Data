{
 "cells": [
  {
   "cell_type": "code",
   "execution_count": 1,
   "metadata": {
    "collapsed": true
   },
   "outputs": [],
   "source": [
    "import pandas as pd\n",
    "import numpy as np\n",
    "import matplotlib.pyplot as plt\n",
    "%matplotlib inline\n",
    "from matplotlib import rcParams\n",
    "rcParams['figure.figsize'] = 12,10\n",
    "import seaborn as sb"
   ]
  },
  {
   "cell_type": "code",
   "execution_count": 2,
   "metadata": {},
   "outputs": [
    {
     "data": {
      "text/plain": [
       "(2919, 70)"
      ]
     },
     "execution_count": 2,
     "metadata": {},
     "output_type": "execute_result"
    }
   ],
   "source": [
    "df = pd.read_csv('C:/Hari Docs/Dataset/Ames_cleaned_v3.csv')\n",
    "df.shape"
   ]
  },
  {
   "cell_type": "code",
   "execution_count": 3,
   "metadata": {},
   "outputs": [
    {
     "name": "stdout",
     "output_type": "stream",
     "text": [
      "(1460, 70) (1459, 70)\n"
     ]
    }
   ],
   "source": [
    "train = df.loc[df['source'] == 'train']\n",
    "test = df.loc[df['source'] == 'test']\n",
    "print(train.shape, test.shape)"
   ]
  },
  {
   "cell_type": "code",
   "execution_count": 16,
   "metadata": {},
   "outputs": [
    {
     "name": "stdout",
     "output_type": "stream",
     "text": [
      "Total of numeric features:  30\n",
      "Total of categorical features:  40\n"
     ]
    }
   ],
   "source": [
    "num_feat = train.dtypes[train.dtypes != 'object'].index\n",
    "print('Total of numeric features: ', len(num_feat))\n",
    "cat_feat = train.dtypes[train.dtypes == 'object'].index\n",
    "print('Total of categorical features: ', len(cat_feat))"
   ]
  },
  {
   "cell_type": "code",
   "execution_count": 15,
   "metadata": {},
   "outputs": [],
   "source": [
    "target = 'SalePrice'"
   ]
  },
  {
   "cell_type": "code",
   "execution_count": 17,
   "metadata": {},
   "outputs": [
    {
     "name": "stdout",
     "output_type": "stream",
     "text": [
      "SalePrice        1.000000\n",
      "OverallQual      0.790982\n",
      "GrLivArea        0.708624\n",
      "GarageCars       0.640409\n",
      "GarageArea       0.623431\n",
      "TotalBsmtSF      0.613581\n",
      "1stFlrSF         0.605852\n",
      "TotalFullBath    0.584731\n",
      "TotRmsAbvGrd     0.533723\n",
      "YearBuilt        0.522897\n",
      "YearRemodAdd     0.507101\n",
      "MasVnrArea       0.473461\n",
      "Fireplaces       0.466929\n",
      "BsmtFinSF1       0.386420\n",
      "LotFrontage      0.334820\n",
      "WoodDeckSF       0.324413\n",
      "2ndFlrSF         0.319334\n",
      "Porch            0.302506\n",
      "HalfBath         0.284108\n",
      "LotArea          0.263843\n",
      "GarageYrBlt      0.261366\n",
      "BsmtUnfSF        0.197895\n",
      "BedroomAbvGr     0.168213\n",
      "KitchenAbvGr     0.135907\n",
      "MSSubClass       0.084284\n",
      "OverallCond      0.077856\n",
      "MoSold           0.046432\n",
      "YrSold           0.028923\n",
      "Id               0.021917\n",
      "BsmtFinSF2       0.011378\n",
      "Name: SalePrice, dtype: float64\n"
     ]
    }
   ],
   "source": [
    "corr = train.corr()\n",
    "corr_abs = corr.abs()\n",
    "\n",
    "nr_num_cols = len(num_feat)\n",
    "\n",
    "ser_corr = corr_abs.nlargest(nr_num_cols, target)[target]\n",
    "print(ser_corr)"
   ]
  },
  {
   "cell_type": "code",
   "execution_count": 26,
   "metadata": {},
   "outputs": [
    {
     "data": {
      "text/html": [
       "<div>\n",
       "<style>\n",
       "    .dataframe thead tr:only-child th {\n",
       "        text-align: right;\n",
       "    }\n",
       "\n",
       "    .dataframe thead th {\n",
       "        text-align: left;\n",
       "    }\n",
       "\n",
       "    .dataframe tbody tr th {\n",
       "        vertical-align: top;\n",
       "    }\n",
       "</style>\n",
       "<table border=\"1\" class=\"dataframe\">\n",
       "  <thead>\n",
       "    <tr style=\"text-align: right;\">\n",
       "      <th></th>\n",
       "      <th>BldgType</th>\n",
       "      <th>BsmtCond</th>\n",
       "      <th>BsmtExposure</th>\n",
       "      <th>BsmtFinType1</th>\n",
       "      <th>BsmtFinType2</th>\n",
       "      <th>BsmtQual</th>\n",
       "      <th>CentralAir</th>\n",
       "      <th>Condition1</th>\n",
       "      <th>Condition2</th>\n",
       "      <th>Electrical</th>\n",
       "      <th>...</th>\n",
       "      <th>MasVnrType</th>\n",
       "      <th>Neighborhood</th>\n",
       "      <th>PavedDrive</th>\n",
       "      <th>RoofMatl</th>\n",
       "      <th>RoofStyle</th>\n",
       "      <th>SaleCondition</th>\n",
       "      <th>SaleType</th>\n",
       "      <th>Street</th>\n",
       "      <th>Utilities</th>\n",
       "      <th>source</th>\n",
       "    </tr>\n",
       "  </thead>\n",
       "  <tbody>\n",
       "    <tr>\n",
       "      <th>count</th>\n",
       "      <td>2919</td>\n",
       "      <td>2919</td>\n",
       "      <td>2919</td>\n",
       "      <td>2919</td>\n",
       "      <td>2919</td>\n",
       "      <td>2919</td>\n",
       "      <td>2919</td>\n",
       "      <td>2919</td>\n",
       "      <td>2919</td>\n",
       "      <td>2919</td>\n",
       "      <td>...</td>\n",
       "      <td>2919</td>\n",
       "      <td>2919</td>\n",
       "      <td>2919</td>\n",
       "      <td>2919</td>\n",
       "      <td>2919</td>\n",
       "      <td>2919</td>\n",
       "      <td>2919</td>\n",
       "      <td>2919</td>\n",
       "      <td>2919</td>\n",
       "      <td>2919</td>\n",
       "    </tr>\n",
       "    <tr>\n",
       "      <th>unique</th>\n",
       "      <td>5</td>\n",
       "      <td>5</td>\n",
       "      <td>5</td>\n",
       "      <td>6</td>\n",
       "      <td>6</td>\n",
       "      <td>5</td>\n",
       "      <td>2</td>\n",
       "      <td>9</td>\n",
       "      <td>8</td>\n",
       "      <td>5</td>\n",
       "      <td>...</td>\n",
       "      <td>4</td>\n",
       "      <td>25</td>\n",
       "      <td>3</td>\n",
       "      <td>8</td>\n",
       "      <td>6</td>\n",
       "      <td>6</td>\n",
       "      <td>9</td>\n",
       "      <td>2</td>\n",
       "      <td>2</td>\n",
       "      <td>2</td>\n",
       "    </tr>\n",
       "    <tr>\n",
       "      <th>top</th>\n",
       "      <td>1Fam</td>\n",
       "      <td>TA</td>\n",
       "      <td>No</td>\n",
       "      <td>None</td>\n",
       "      <td>None</td>\n",
       "      <td>TA</td>\n",
       "      <td>Y</td>\n",
       "      <td>Norm</td>\n",
       "      <td>Norm</td>\n",
       "      <td>SBrkr</td>\n",
       "      <td>...</td>\n",
       "      <td>None</td>\n",
       "      <td>NAmes</td>\n",
       "      <td>Y</td>\n",
       "      <td>CompShg</td>\n",
       "      <td>Gable</td>\n",
       "      <td>Normal</td>\n",
       "      <td>WD</td>\n",
       "      <td>Pave</td>\n",
       "      <td>AllPub</td>\n",
       "      <td>train</td>\n",
       "    </tr>\n",
       "    <tr>\n",
       "      <th>freq</th>\n",
       "      <td>2425</td>\n",
       "      <td>2606</td>\n",
       "      <td>1904</td>\n",
       "      <td>930</td>\n",
       "      <td>2573</td>\n",
       "      <td>1283</td>\n",
       "      <td>2723</td>\n",
       "      <td>2511</td>\n",
       "      <td>2889</td>\n",
       "      <td>2672</td>\n",
       "      <td>...</td>\n",
       "      <td>1769</td>\n",
       "      <td>443</td>\n",
       "      <td>2641</td>\n",
       "      <td>2876</td>\n",
       "      <td>2310</td>\n",
       "      <td>2402</td>\n",
       "      <td>2526</td>\n",
       "      <td>2907</td>\n",
       "      <td>2918</td>\n",
       "      <td>1460</td>\n",
       "    </tr>\n",
       "  </tbody>\n",
       "</table>\n",
       "<p>4 rows × 40 columns</p>\n",
       "</div>"
      ],
      "text/plain": [
       "       BldgType BsmtCond BsmtExposure BsmtFinType1 BsmtFinType2 BsmtQual  \\\n",
       "count      2919     2919         2919         2919         2919     2919   \n",
       "unique        5        5            5            6            6        5   \n",
       "top        1Fam       TA           No         None         None       TA   \n",
       "freq       2425     2606         1904          930         2573     1283   \n",
       "\n",
       "       CentralAir Condition1 Condition2 Electrical  ...   MasVnrType  \\\n",
       "count        2919       2919       2919       2919  ...         2919   \n",
       "unique          2          9          8          5  ...            4   \n",
       "top             Y       Norm       Norm      SBrkr  ...         None   \n",
       "freq         2723       2511       2889       2672  ...         1769   \n",
       "\n",
       "       Neighborhood PavedDrive RoofMatl RoofStyle SaleCondition SaleType  \\\n",
       "count          2919       2919     2919      2919          2919     2919   \n",
       "unique           25          3        8         6             6        9   \n",
       "top           NAmes          Y  CompShg     Gable        Normal       WD   \n",
       "freq            443       2641     2876      2310          2402     2526   \n",
       "\n",
       "       Street Utilities source  \n",
       "count    2919      2919   2919  \n",
       "unique      2         2      2  \n",
       "top      Pave    AllPub  train  \n",
       "freq     2907      2918   1460  \n",
       "\n",
       "[4 rows x 40 columns]"
      ]
     },
     "execution_count": 26,
     "metadata": {},
     "output_type": "execute_result"
    }
   ],
   "source": [
    "df[cat_feat].describe()"
   ]
  },
  {
   "cell_type": "code",
   "execution_count": 27,
   "metadata": {},
   "outputs": [
    {
     "name": "stdout",
     "output_type": "stream",
     "text": [
      "Highest value Percentage of BldgType: 0.830764\n",
      "Highest value Percentage of BsmtCond: 0.892771\n",
      "Highest value Percentage of BsmtExposure: 0.652278\n",
      "Highest value Percentage of BsmtFinType1: 0.318602\n",
      "Highest value Percentage of BsmtFinType2: 0.881466\n",
      "Highest value Percentage of BsmtQual: 0.439534\n",
      "Highest value Percentage of CentralAir: 0.932854\n",
      "Highest value Percentage of Condition1: 0.860226\n",
      "Highest value Percentage of Condition2: 0.989723\n",
      "Highest value Percentage of Electrical: 0.915382\n",
      "Highest value Percentage of ExterCond: 0.869476\n",
      "Highest value Percentage of ExterQual: 0.615964\n",
      "Highest value Percentage of Exterior1st: 0.351490\n",
      "Highest value Percentage of Exterior2nd: 0.347722\n",
      "Highest value Percentage of FireplaceQu: 0.486468\n",
      "Highest value Percentage of Foundation: 0.448099\n",
      "Highest value Percentage of Functional: 0.931483\n",
      "Highest value Percentage of GarageCond: 0.909215\n",
      "Highest value Percentage of GarageFinish: 0.421377\n",
      "Highest value Percentage of GarageQual: 0.892086\n",
      "Highest value Percentage of GarageType: 0.590271\n",
      "Highest value Percentage of Heating: 0.984584\n",
      "Highest value Percentage of HeatingQC: 0.511477\n",
      "Highest value Percentage of HouseStyle: 0.503940\n",
      "Highest value Percentage of KitchenQual: 0.511477\n",
      "Highest value Percentage of LandContour: 0.898253\n",
      "Highest value Percentage of LandSlope: 0.951696\n",
      "Highest value Percentage of LotConfig: 0.730730\n",
      "Highest value Percentage of LotShape: 0.636862\n",
      "Highest value Percentage of MSZoning: 0.777321\n",
      "Highest value Percentage of MasVnrType: 0.606029\n",
      "Highest value Percentage of Neighborhood: 0.151764\n",
      "Highest value Percentage of PavedDrive: 0.904762\n",
      "Highest value Percentage of RoofMatl: 0.985269\n",
      "Highest value Percentage of RoofStyle: 0.791367\n",
      "Highest value Percentage of SaleCondition: 0.822885\n",
      "Highest value Percentage of SaleType: 0.865365\n",
      "Highest value Percentage of Street: 0.995889\n",
      "Highest value Percentage of Utilities: 0.999657\n",
      "Highest value Percentage of source: 0.500171\n"
     ]
    }
   ],
   "source": [
    "# Highest value Frequency percentage in categorical variables \n",
    "for i in list(cat_feat):\n",
    "    pct = df[i].value_counts()[0] / 2919\n",
    "    print('Highest value Percentage of {}: {:3f}'.format(i, pct))"
   ]
  },
  {
   "cell_type": "code",
   "execution_count": 28,
   "metadata": {},
   "outputs": [],
   "source": [
    "#Drop categorical features with highest value frequency pct > 85\n",
    "cat_col_drop = ['CentralAir','Condition2','Electrical','Functional','GarageCond','Heating','LandSlope',\n",
    "                'PavedDrive','RoofMatl','Street','Utilities','BsmtCond','BsmtFinType2','Condition1',\n",
    "                'ExterCond','GarageQual','LandContour','SaleType']\n",
    "df.drop(cat_col_drop, axis=1, inplace=True)"
   ]
  },
  {
   "cell_type": "code",
   "execution_count": null,
   "metadata": {
    "collapsed": true
   },
   "outputs": [],
   "source": [
    "#We will select numeric featues based on correlation > 30%\n"
   ]
  }
 ],
 "metadata": {
  "kernelspec": {
   "display_name": "Python 3",
   "language": "python",
   "name": "python3"
  },
  "language_info": {
   "codemirror_mode": {
    "name": "ipython",
    "version": 3
   },
   "file_extension": ".py",
   "mimetype": "text/x-python",
   "name": "python",
   "nbconvert_exporter": "python",
   "pygments_lexer": "ipython3",
   "version": "3.6.2"
  }
 },
 "nbformat": 4,
 "nbformat_minor": 2
}
