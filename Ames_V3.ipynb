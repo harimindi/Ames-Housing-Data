{
 "cells": [
  {
   "cell_type": "code",
   "execution_count": 13,
   "metadata": {
    "collapsed": true
   },
   "outputs": [],
   "source": [
    "import pandas as pd\n",
    "import numpy as np\n",
    "import matplotlib.pyplot as plt\n",
    "%matplotlib inline\n",
    "from matplotlib import rcParams\n",
    "rcParams['figure.figsize'] = 12,10\n",
    "import seaborn as sb"
   ]
  },
  {
   "cell_type": "code",
   "execution_count": 2,
   "metadata": {},
   "outputs": [
    {
     "name": "stdout",
     "output_type": "stream",
     "text": [
      "(1460, 81) (1459, 80)\n"
     ]
    }
   ],
   "source": [
    "train = pd.read_csv('C:/Hari Docs/Dataset/houseprices_train.csv')\n",
    "test = pd.read_csv('C:/Hari Docs/Dataset/houseprices_test.csv')\n",
    "print(train.shape, test.shape)"
   ]
  },
  {
   "cell_type": "code",
   "execution_count": 3,
   "metadata": {},
   "outputs": [
    {
     "name": "stdout",
     "output_type": "stream",
     "text": [
      "(1460, 82) (1459, 81)\n"
     ]
    }
   ],
   "source": [
    "#Adding source\n",
    "train['source'] = 'train'\n",
    "test['source'] = 'test'\n",
    "print(train.shape, test.shape)"
   ]
  },
  {
   "cell_type": "code",
   "execution_count": 4,
   "metadata": {},
   "outputs": [
    {
     "data": {
      "text/plain": [
       "(2919, 82)"
      ]
     },
     "execution_count": 4,
     "metadata": {},
     "output_type": "execute_result"
    }
   ],
   "source": [
    "df = pd.concat([train, test])\n",
    "df.shape"
   ]
  },
  {
   "cell_type": "code",
   "execution_count": 5,
   "metadata": {
    "scrolled": true
   },
   "outputs": [
    {
     "data": {
      "text/plain": [
       "Alley           0.93\n",
       "BsmtCond        0.03\n",
       "BsmtExposure    0.03\n",
       "BsmtFinSF1      0.00\n",
       "BsmtFinSF2      0.00\n",
       "BsmtFinType1    0.03\n",
       "BsmtFinType2    0.03\n",
       "BsmtFullBath    0.00\n",
       "BsmtHalfBath    0.00\n",
       "BsmtQual        0.03\n",
       "BsmtUnfSF       0.00\n",
       "Electrical      0.00\n",
       "Exterior1st     0.00\n",
       "Exterior2nd     0.00\n",
       "Fence           0.80\n",
       "FireplaceQu     0.49\n",
       "Functional      0.00\n",
       "GarageArea      0.00\n",
       "GarageCars      0.00\n",
       "GarageCond      0.05\n",
       "GarageFinish    0.05\n",
       "GarageQual      0.05\n",
       "GarageType      0.05\n",
       "GarageYrBlt     0.05\n",
       "KitchenQual     0.00\n",
       "LotFrontage     0.17\n",
       "MSZoning        0.00\n",
       "MasVnrArea      0.01\n",
       "MasVnrType      0.01\n",
       "MiscFeature     0.96\n",
       "PoolQC          1.00\n",
       "SalePrice       0.50\n",
       "SaleType        0.00\n",
       "TotalBsmtSF     0.00\n",
       "Utilities       0.00\n",
       "dtype: float64"
      ]
     },
     "execution_count": 5,
     "metadata": {},
     "output_type": "execute_result"
    }
   ],
   "source": [
    "#percentage of missing values\n",
    "null_df = df.columns[df.isnull().any()]\n",
    "num = df[null_df].isnull().sum()\n",
    "round(num/2919, 2) "
   ]
  },
  {
   "cell_type": "code",
   "execution_count": 6,
   "metadata": {},
   "outputs": [
    {
     "data": {
      "text/plain": [
       "2ndFlrSF         0.57\n",
       "3SsnPorch        0.99\n",
       "BedroomAbvGr     0.00\n",
       "BsmtFinSF1       0.32\n",
       "BsmtFinSF2       0.88\n",
       "BsmtFullBath     0.58\n",
       "BsmtHalfBath     0.94\n",
       "BsmtUnfSF        0.08\n",
       "EnclosedPorch    0.84\n",
       "Fireplaces       0.49\n",
       "FullBath         0.00\n",
       "GarageArea       0.05\n",
       "GarageCars       0.05\n",
       "HalfBath         0.63\n",
       "KitchenAbvGr     0.00\n",
       "LowQualFinSF     0.99\n",
       "MasVnrArea       0.60\n",
       "MiscVal          0.96\n",
       "OpenPorchSF      0.44\n",
       "PoolArea         1.00\n",
       "ScreenPorch      0.91\n",
       "TotalBsmtSF      0.03\n",
       "WoodDeckSF       0.52\n",
       "dtype: float64"
      ]
     },
     "execution_count": 6,
     "metadata": {},
     "output_type": "execute_result"
    }
   ],
   "source": [
    "#percentage of zero values for each numeric variable\n",
    "zero_df = df.columns[(df == 0).any()]\n",
    "num = (df[zero_df] == 0).sum()\n",
    "round(num/2919, 2) "
   ]
  },
  {
   "cell_type": "code",
   "execution_count": 7,
   "metadata": {},
   "outputs": [
    {
     "data": {
      "text/plain": [
       "(2919, 73)"
      ]
     },
     "execution_count": 7,
     "metadata": {},
     "output_type": "execute_result"
    }
   ],
   "source": [
    "# Drop columns with more than 90% of values with either zero or missing\n",
    "#Zeros - 3SsnPorch, BsmtHalfBath, LowQualFinSF, MiscVal, PoolArea, ScreenPorch\n",
    "#NaN's - Alley, MiscFeature, PoolQC\n",
    "drop_col = ['3SsnPorch', 'Alley','BsmtHalfBath', 'LowQualFinSF', 'MiscFeature', 'MiscVal','PoolArea', 'PoolQC', 'ScreenPorch']\n",
    "df.drop(drop_col, axis=1, inplace=True)\n",
    "df.shape"
   ]
  },
  {
   "cell_type": "code",
   "execution_count": 8,
   "metadata": {},
   "outputs": [
    {
     "data": {
      "text/plain": [
       "Index(['1stFlrSF', '2ndFlrSF', 'BedroomAbvGr', 'BldgType', 'BsmtCond',\n",
       "       'BsmtExposure', 'BsmtFinSF1', 'BsmtFinSF2', 'BsmtFinType1',\n",
       "       'BsmtFinType2', 'BsmtFullBath', 'BsmtQual', 'BsmtUnfSF', 'CentralAir',\n",
       "       'Condition1', 'Condition2', 'Electrical', 'EnclosedPorch', 'ExterCond',\n",
       "       'ExterQual', 'Exterior1st', 'Exterior2nd', 'Fence', 'FireplaceQu',\n",
       "       'Fireplaces', 'Foundation', 'FullBath', 'Functional', 'GarageArea',\n",
       "       'GarageCars', 'GarageCond', 'GarageFinish', 'GarageQual', 'GarageType',\n",
       "       'GarageYrBlt', 'GrLivArea', 'HalfBath', 'Heating', 'HeatingQC',\n",
       "       'HouseStyle', 'Id', 'KitchenAbvGr', 'KitchenQual', 'LandContour',\n",
       "       'LandSlope', 'LotArea', 'LotConfig', 'LotFrontage', 'LotShape',\n",
       "       'MSSubClass', 'MSZoning', 'MasVnrArea', 'MasVnrType', 'MoSold',\n",
       "       'Neighborhood', 'OpenPorchSF', 'OverallCond', 'OverallQual',\n",
       "       'PavedDrive', 'RoofMatl', 'RoofStyle', 'SaleCondition', 'SalePrice',\n",
       "       'SaleType', 'Street', 'TotRmsAbvGrd', 'TotalBsmtSF', 'Utilities',\n",
       "       'WoodDeckSF', 'YearBuilt', 'YearRemodAdd', 'YrSold', 'source'],\n",
       "      dtype='object')"
      ]
     },
     "execution_count": 8,
     "metadata": {},
     "output_type": "execute_result"
    }
   ],
   "source": [
    "df.columns"
   ]
  },
  {
   "cell_type": "code",
   "execution_count": 10,
   "metadata": {},
   "outputs": [
    {
     "data": {
      "text/html": [
       "<div>\n",
       "<style>\n",
       "    .dataframe thead tr:only-child th {\n",
       "        text-align: right;\n",
       "    }\n",
       "\n",
       "    .dataframe thead th {\n",
       "        text-align: left;\n",
       "    }\n",
       "\n",
       "    .dataframe tbody tr th {\n",
       "        vertical-align: top;\n",
       "    }\n",
       "</style>\n",
       "<table border=\"1\" class=\"dataframe\">\n",
       "  <thead>\n",
       "    <tr style=\"text-align: right;\">\n",
       "      <th></th>\n",
       "      <th>YearBuilt</th>\n",
       "      <th>YearRemodAdd</th>\n",
       "      <th>YrSold</th>\n",
       "    </tr>\n",
       "  </thead>\n",
       "  <tbody>\n",
       "    <tr>\n",
       "      <th>0</th>\n",
       "      <td>2003</td>\n",
       "      <td>2003</td>\n",
       "      <td>2008</td>\n",
       "    </tr>\n",
       "    <tr>\n",
       "      <th>1</th>\n",
       "      <td>1976</td>\n",
       "      <td>1976</td>\n",
       "      <td>2007</td>\n",
       "    </tr>\n",
       "    <tr>\n",
       "      <th>2</th>\n",
       "      <td>2001</td>\n",
       "      <td>2002</td>\n",
       "      <td>2008</td>\n",
       "    </tr>\n",
       "    <tr>\n",
       "      <th>3</th>\n",
       "      <td>1915</td>\n",
       "      <td>1970</td>\n",
       "      <td>2006</td>\n",
       "    </tr>\n",
       "    <tr>\n",
       "      <th>4</th>\n",
       "      <td>2000</td>\n",
       "      <td>2000</td>\n",
       "      <td>2008</td>\n",
       "    </tr>\n",
       "  </tbody>\n",
       "</table>\n",
       "</div>"
      ],
      "text/plain": [
       "   YearBuilt  YearRemodAdd  YrSold\n",
       "0       2003          2003    2008\n",
       "1       1976          1976    2007\n",
       "2       2001          2002    2008\n",
       "3       1915          1970    2006\n",
       "4       2000          2000    2008"
      ]
     },
     "execution_count": 10,
     "metadata": {},
     "output_type": "execute_result"
    }
   ],
   "source": [
    "df[['YearBuilt','YearRemodAdd','YrSold']].head()"
   ]
  },
  {
   "cell_type": "code",
   "execution_count": 11,
   "metadata": {},
   "outputs": [
    {
     "data": {
      "text/plain": [
       "NAmes      443\n",
       "CollgCr    267\n",
       "OldTown    239\n",
       "Edwards    194\n",
       "Somerst    182\n",
       "NridgHt    166\n",
       "Gilbert    165\n",
       "Sawyer     151\n",
       "NWAmes     131\n",
       "SawyerW    125\n",
       "Mitchel    114\n",
       "BrkSide    108\n",
       "Crawfor    103\n",
       "IDOTRR      93\n",
       "Timber      72\n",
       "NoRidge     71\n",
       "StoneBr     51\n",
       "SWISU       48\n",
       "ClearCr     44\n",
       "MeadowV     37\n",
       "BrDale      30\n",
       "Blmngtn     28\n",
       "Veenker     24\n",
       "NPkVill     23\n",
       "Blueste     10\n",
       "Name: Neighborhood, dtype: int64"
      ]
     },
     "execution_count": 11,
     "metadata": {},
     "output_type": "execute_result"
    }
   ],
   "source": [
    "df['Neighborhood'].value_counts()"
   ]
  },
  {
   "cell_type": "code",
   "execution_count": 63,
   "metadata": {},
   "outputs": [
    {
     "data": {
      "text/plain": [
       "<matplotlib.axes._subplots.AxesSubplot at 0x18c4f5d28d0>"
      ]
     },
     "execution_count": 63,
     "metadata": {},
     "output_type": "execute_result"
    },
    {
     "data": {
      "image/png": "[encoded data removed]",
      "text/plain": [
       "<matplotlib.figure.Figure at 0x18c4fb78860>"
      ]
     },
     "metadata": {},
     "output_type": "display_data"
    }
   ],
   "source": [
    "sb.barplot(x='FullBath', y='SalePrice', data=df)"
   ]
  },
  {
   "cell_type": "code",
   "execution_count": 24,
   "metadata": {},
   "outputs": [
    {
     "name": "stdout",
     "output_type": "stream",
     "text": [
      "Null values of BsmtFinType1 is: 0\n",
      "Null values of BsmtFinType2 is: 0\n",
      "Null values of BsmtQual is: 0\n"
     ]
    }
   ],
   "source": [
    "# BsmtCond, BsmtExposure, BsmtFinType1, BsmtFinType2, BsmtQual - These features seem to have equal missing values\n",
    "# Field descriptions for the above variables says 'NA' means 'No Basement'.\n",
    "#First we will change NA for the above fields to something Python can read instead of considering them as missing values\n",
    "\n",
    "col = ['BsmtCond','BsmtExposure','BsmtFinType1, BsmtFinType2, BsmtQual']\n",
    "for i in col:\n",
    "    Nan_rows = df[i].isnull()\n",
    "    df.loc[Nan_rows, i] = 'None'\n",
    "    print ('Null values of {} is: {:d}' .format(i, df[i].isnull().sum()))\n",
    "\n"
   ]
  },
  {
   "cell_type": "code",
   "execution_count": 50,
   "metadata": {},
   "outputs": [
    {
     "data": {
      "text/plain": [
       "BsmtFinType1\n",
       "None     78\n",
       "Unf     851\n",
       "Name: BsmtFinSF1, dtype: int64"
      ]
     },
     "execution_count": 50,
     "metadata": {},
     "output_type": "execute_result"
    }
   ],
   "source": [
    "#From the above we can see that there 81 values missing for BsmtFinSF1 and BsmtFinSF2\n",
    "zero_df = (df['BsmtFinSF1'] == 0)\n",
    "df.loc[zero_df, ].groupby('BsmtFinType1').BsmtFinSF1.count()\n"
   ]
  },
  {
   "cell_type": "code",
   "execution_count": 51,
   "metadata": {},
   "outputs": [
    {
     "data": {
      "text/plain": [
       "BsmtFinType2\n",
       "BLQ        1\n",
       "None      78\n",
       "Unf     2492\n",
       "Name: BsmtFinSF1, dtype: int64"
      ]
     },
     "execution_count": 51,
     "metadata": {},
     "output_type": "execute_result"
    }
   ],
   "source": [
    "zero_df = (df['BsmtFinSF2'] == 0)\n",
    "df.loc[zero_df, ].groupby('BsmtFinType2').BsmtFinSF1.count()\n"
   ]
  },
  {
   "cell_type": "code",
   "execution_count": 58,
   "metadata": {},
   "outputs": [
    {
     "name": "stdout",
     "output_type": "stream",
     "text": [
      "Valuecount of BsmtFinType1:  None    930\n",
      "GLQ     849\n",
      "ALQ     429\n",
      "Rec     288\n",
      "BLQ     269\n",
      "LwQ     154\n",
      "Name: BsmtFinType1, dtype: int64\n",
      "Valuecount of BsmtFinType2:  None    2573\n",
      "Rec      105\n",
      "LwQ       87\n",
      "BLQ       68\n",
      "ALQ       52\n",
      "GLQ       34\n",
      "Name: BsmtFinType2, dtype: int64\n"
     ]
    }
   ],
   "source": [
    "## BsmtFinSF1 and BsmtFinSF2 can have zero values where BsmtFinType1 or BsmntFinType2 are NA or Unf (unfinished)\n",
    "# I would assume that to be treated as no basement\n",
    "# Hence changing unf values to None for bsmtFinType1 and BsmntFinType2\n",
    "Unf_rows = (df['BsmtFinType1'] == 'Unf')\n",
    "df.loc[Unf_rows,'BsmtFinType1'] = 'None'\n",
    "print('Valuecount of BsmtFinType1: ', df['BsmtFinType1'].value_counts())\n",
    "\n",
    "Unf_rows = (df['BsmtFinType2'] == 'Unf')\n",
    "df.loc[Unf_rows,'BsmtFinType2'] = 'None'\n",
    "print('Valuecount of BsmtFinType2: ', df['BsmtFinType2'].value_counts())"
   ]
  },
  {
   "cell_type": "code",
   "execution_count": 68,
   "metadata": {},
   "outputs": [
    {
     "name": "stdout",
     "output_type": "stream",
     "text": [
      "Null values in TotalFullBath:  2\n"
     ]
    }
   ],
   "source": [
    "#We can combine BsmtFullBath and FullBath to see total bathrooms for the house\n",
    "# Similarly combine BsmtHalfBath and HalfBath\n",
    "df['TotalFullBath'] = df['BsmtFullBath'] + df['FullBath']\n",
    "print('Null values in TotalFullBath: ', df['TotalFullBath'].isnull().sum())"
   ]
  },
  {
   "cell_type": "code",
   "execution_count": 69,
   "metadata": {},
   "outputs": [
    {
     "data": {
      "text/plain": [
       "2.0    1466\n",
       "1.0     757\n",
       "3.0     644\n",
       "4.0      44\n",
       "6.0       5\n",
       "0.0       1\n",
       "Name: TotalFullBath, dtype: int64"
      ]
     },
     "execution_count": 69,
     "metadata": {},
     "output_type": "execute_result"
    }
   ],
   "source": [
    "df['TotalFullBath'].value_counts()"
   ]
  },
  {
   "cell_type": "code",
   "execution_count": 76,
   "metadata": {},
   "outputs": [
    {
     "name": "stdout",
     "output_type": "stream",
     "text": [
      "Null values in TotalFullBath Before:  2\n",
      "Null values in TotalFullBath After:  0\n"
     ]
    }
   ],
   "source": [
    "#We see that there are 2 missing values and one value which is zero. We will impute this with mode\n",
    "#df['TotalFullBath'].fillna(df['TotalFullBath'].mode()[0], inplace= True)\n",
    "null_rows = ((df['TotalFullBath'] == 0) | (df['TotalFullBath'].isnull()))\n",
    "print('Null values in TotalFullBath Before: ', df['TotalFullBath'].isnull().sum())\n",
    "df.loc[null_rows,'TotalFullBath'] =  df['TotalFullBath'].mode()[0]\n",
    "print('Null values in TotalFullBath After: ', df['TotalFullBath'].isnull().sum())"
   ]
  },
  {
   "cell_type": "code",
   "execution_count": 113,
   "metadata": {},
   "outputs": [
    {
     "data": {
      "text/plain": [
       "BsmtCond\n",
       "None    79\n",
       "Name: BsmtUnfSF, dtype: int64"
      ]
     },
     "execution_count": 113,
     "metadata": {},
     "output_type": "execute_result"
    }
   ],
   "source": [
    "# We will look at zero values for BsmtUnfSF\n",
    "zero_df = (df['BsmtUnfSF'] == 0)\n",
    "df.loc[zero_df, ].groupby('BsmtCond').BsmtUnfSF.count()\n",
    "#This shows that 79 are genuine zero values as there is no basement and we need to impute the remaining"
   ]
  },
  {
   "cell_type": "code",
   "execution_count": 112,
   "metadata": {},
   "outputs": [
    {
     "name": "stdout",
     "output_type": "stream",
     "text": [
      "Zero Values for BsmtUnfSF Before:  162\n",
      "Zero Values for BsmtUnfSF After:  162\n"
     ]
    }
   ],
   "source": [
    "# Imputing the zeroes with mean value\n",
    "print('Zero Values for BsmtUnfSF Before: ', df.loc[zero_df,'BsmtUnfSF'].count())\n",
    "zero_df = ((df['BsmtUnfSF'] == 0) & (df['BsmtCond'] != 'None'))\n",
    "df.loc[zero_df,'BsmtUnfSF'] = df['BsmtUnfSF'].mean()"
   ]
  },
  {
   "cell_type": "code",
   "execution_count": 134,
   "metadata": {},
   "outputs": [
    {
     "data": {
      "text/plain": [
       "1    1939\n",
       "0     980\n",
       "Name: Porch, dtype: int64"
      ]
     },
     "execution_count": 134,
     "metadata": {},
     "output_type": "execute_result"
    }
   ],
   "source": [
    "# OpenPorchSF and EnclosedPorch\n",
    "# We will combine these 2 variable to create a new binary variable. 0 - No Porch, 1 - porch Exists\n",
    "df['Porch'] = df['OpenPorchSF'] + df['EnclosedPorch']\n",
    "df['Porch'] = df['Porch'].astype(bool).astype(int)\n",
    "\n",
    "df['Porch'].value_counts()"
   ]
  },
  {
   "cell_type": "code",
   "execution_count": 131,
   "metadata": {},
   "outputs": [
    {
     "data": {
      "text/plain": [
       "2919"
      ]
     },
     "execution_count": 131,
     "metadata": {},
     "output_type": "execute_result"
    }
   ],
   "source": [
    "df['OpenPorchSF'].count()"
   ]
  },
  {
   "cell_type": "code",
   "execution_count": 117,
   "metadata": {},
   "outputs": [
    {
     "data": {
      "image/png": "[encoded data removed]",
      "text/plain": [
       "<matplotlib.figure.Figure at 0x18c51ac1550>"
      ]
     },
     "metadata": {},
     "output_type": "display_data"
    }
   ],
   "source": [
    "plt.scatter(df['EnclosedPorch'], df['SalePrice'])\n",
    "plt.show()"
   ]
  },
  {
   "cell_type": "code",
   "execution_count": null,
   "metadata": {
    "collapsed": true
   },
   "outputs": [],
   "source": []
  }
 ],
 "metadata": {
  "kernelspec": {
   "display_name": "Python 3",
   "language": "python",
   "name": "python3"
  },
  "language_info": {
   "codemirror_mode": {
    "name": "ipython",
    "version": 3
   },
   "file_extension": ".py",
   "mimetype": "text/x-python",
   "name": "python",
   "nbconvert_exporter": "python",
   "pygments_lexer": "ipython3",
   "version": "3.6.2"
  }
 },
 "nbformat": 4,
 "nbformat_minor": 2
}
